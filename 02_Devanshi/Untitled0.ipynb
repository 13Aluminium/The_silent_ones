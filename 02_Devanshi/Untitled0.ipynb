{
  "nbformat": 4,
  "nbformat_minor": 0,
  "metadata": {
    "colab": {
      "provenance": []
    },
    "kernelspec": {
      "name": "python3",
      "display_name": "Python 3"
    },
    "language_info": {
      "name": "python"
    }
  },
  "cells": [
    {
      "cell_type": "code",
      "source": [
        "import json\n",
        "import pandas as pd"
      ],
      "metadata": {
        "id": "FIqfjqCz6Ycf"
      },
      "execution_count": 9,
      "outputs": []
    },
    {
      "cell_type": "code",
      "source": [
        "with open(\"output.json\", 'r') as f:\n",
        "    data = json.load(f)\n",
        "df = pd.DataFrame(data)\n",
        "df.head(1)"
      ],
      "metadata": {
        "colab": {
          "base_uri": "https://localhost:8080/",
          "height": 135
        },
        "id": "sdiuX0yt6brC",
        "outputId": "1be546e4-cb5e-45ba-aad7-f3e591ed0053"
      },
      "execution_count": 13,
      "outputs": [
        {
          "output_type": "execute_result",
          "data": {
            "text/plain": [
              "  \"id\"                   \"speaker_1_en\"                 \"speaker_2_en\"  \\\n",
              "0  20,  \"Let’s visit grandma’s place.\",  \"She’ll be happy to see us.\",   \n",
              "\n",
              "           \"speaker_1_gujlish\"       \"speaker_2_gujlish\" \"speaker_3_en\"  \\\n",
              "0  \"Dadi na ghar javanu che.\",  \"Tene bau khushi thase.\"            NaN   \n",
              "\n",
              "  \"speaker_4_en\" \"speaker_3_gujlish\" \"speaker_4_gujlish\" \"speaker_1_en_2\"  \\\n",
              "0            NaN                 NaN                 NaN              NaN   \n",
              "\n",
              "  \"speaker_2_en_2\" \"speaker_3_en_2\" \"speaker_4_en_2\" \"speaker_1_gujlish_2\"  \\\n",
              "0              NaN              NaN              NaN                   NaN   \n",
              "\n",
              "  \"speaker_2_gujlish_2\" \"speaker_3_gujlish_2\" \"speaker_4_gujlish_2\"  \n",
              "0                   NaN                   NaN                   NaN  "
            ],
            "text/html": [
              "\n",
              "  <div id=\"df-c4c930d8-03e8-47d4-b742-9291bc417d5a\" class=\"colab-df-container\">\n",
              "    <div>\n",
              "<style scoped>\n",
              "    .dataframe tbody tr th:only-of-type {\n",
              "        vertical-align: middle;\n",
              "    }\n",
              "\n",
              "    .dataframe tbody tr th {\n",
              "        vertical-align: top;\n",
              "    }\n",
              "\n",
              "    .dataframe thead th {\n",
              "        text-align: right;\n",
              "    }\n",
              "</style>\n",
              "<table border=\"1\" class=\"dataframe\">\n",
              "  <thead>\n",
              "    <tr style=\"text-align: right;\">\n",
              "      <th></th>\n",
              "      <th>\"id\"</th>\n",
              "      <th>\"speaker_1_en\"</th>\n",
              "      <th>\"speaker_2_en\"</th>\n",
              "      <th>\"speaker_1_gujlish\"</th>\n",
              "      <th>\"speaker_2_gujlish\"</th>\n",
              "      <th>\"speaker_3_en\"</th>\n",
              "      <th>\"speaker_4_en\"</th>\n",
              "      <th>\"speaker_3_gujlish\"</th>\n",
              "      <th>\"speaker_4_gujlish\"</th>\n",
              "      <th>\"speaker_1_en_2\"</th>\n",
              "      <th>\"speaker_2_en_2\"</th>\n",
              "      <th>\"speaker_3_en_2\"</th>\n",
              "      <th>\"speaker_4_en_2\"</th>\n",
              "      <th>\"speaker_1_gujlish_2\"</th>\n",
              "      <th>\"speaker_2_gujlish_2\"</th>\n",
              "      <th>\"speaker_3_gujlish_2\"</th>\n",
              "      <th>\"speaker_4_gujlish_2\"</th>\n",
              "    </tr>\n",
              "  </thead>\n",
              "  <tbody>\n",
              "    <tr>\n",
              "      <th>0</th>\n",
              "      <td>20,</td>\n",
              "      <td>\"Let’s visit grandma’s place.\",</td>\n",
              "      <td>\"She’ll be happy to see us.\",</td>\n",
              "      <td>\"Dadi na ghar javanu che.\",</td>\n",
              "      <td>\"Tene bau khushi thase.\"</td>\n",
              "      <td>NaN</td>\n",
              "      <td>NaN</td>\n",
              "      <td>NaN</td>\n",
              "      <td>NaN</td>\n",
              "      <td>NaN</td>\n",
              "      <td>NaN</td>\n",
              "      <td>NaN</td>\n",
              "      <td>NaN</td>\n",
              "      <td>NaN</td>\n",
              "      <td>NaN</td>\n",
              "      <td>NaN</td>\n",
              "      <td>NaN</td>\n",
              "    </tr>\n",
              "  </tbody>\n",
              "</table>\n",
              "</div>\n",
              "    <div class=\"colab-df-buttons\">\n",
              "\n",
              "  <div class=\"colab-df-container\">\n",
              "    <button class=\"colab-df-convert\" onclick=\"convertToInteractive('df-c4c930d8-03e8-47d4-b742-9291bc417d5a')\"\n",
              "            title=\"Convert this dataframe to an interactive table.\"\n",
              "            style=\"display:none;\">\n",
              "\n",
              "  <svg xmlns=\"http://www.w3.org/2000/svg\" height=\"24px\" viewBox=\"0 -960 960 960\">\n",
              "    <path d=\"M120-120v-720h720v720H120Zm60-500h600v-160H180v160Zm220 220h160v-160H400v160Zm0 220h160v-160H400v160ZM180-400h160v-160H180v160Zm440 0h160v-160H620v160ZM180-180h160v-160H180v160Zm440 0h160v-160H620v160Z\"/>\n",
              "  </svg>\n",
              "    </button>\n",
              "\n",
              "  <style>\n",
              "    .colab-df-container {\n",
              "      display:flex;\n",
              "      gap: 12px;\n",
              "    }\n",
              "\n",
              "    .colab-df-convert {\n",
              "      background-color: #E8F0FE;\n",
              "      border: none;\n",
              "      border-radius: 50%;\n",
              "      cursor: pointer;\n",
              "      display: none;\n",
              "      fill: #1967D2;\n",
              "      height: 32px;\n",
              "      padding: 0 0 0 0;\n",
              "      width: 32px;\n",
              "    }\n",
              "\n",
              "    .colab-df-convert:hover {\n",
              "      background-color: #E2EBFA;\n",
              "      box-shadow: 0px 1px 2px rgba(60, 64, 67, 0.3), 0px 1px 3px 1px rgba(60, 64, 67, 0.15);\n",
              "      fill: #174EA6;\n",
              "    }\n",
              "\n",
              "    .colab-df-buttons div {\n",
              "      margin-bottom: 4px;\n",
              "    }\n",
              "\n",
              "    [theme=dark] .colab-df-convert {\n",
              "      background-color: #3B4455;\n",
              "      fill: #D2E3FC;\n",
              "    }\n",
              "\n",
              "    [theme=dark] .colab-df-convert:hover {\n",
              "      background-color: #434B5C;\n",
              "      box-shadow: 0px 1px 3px 1px rgba(0, 0, 0, 0.15);\n",
              "      filter: drop-shadow(0px 1px 2px rgba(0, 0, 0, 0.3));\n",
              "      fill: #FFFFFF;\n",
              "    }\n",
              "  </style>\n",
              "\n",
              "    <script>\n",
              "      const buttonEl =\n",
              "        document.querySelector('#df-c4c930d8-03e8-47d4-b742-9291bc417d5a button.colab-df-convert');\n",
              "      buttonEl.style.display =\n",
              "        google.colab.kernel.accessAllowed ? 'block' : 'none';\n",
              "\n",
              "      async function convertToInteractive(key) {\n",
              "        const element = document.querySelector('#df-c4c930d8-03e8-47d4-b742-9291bc417d5a');\n",
              "        const dataTable =\n",
              "          await google.colab.kernel.invokeFunction('convertToInteractive',\n",
              "                                                    [key], {});\n",
              "        if (!dataTable) return;\n",
              "\n",
              "        const docLinkHtml = 'Like what you see? Visit the ' +\n",
              "          '<a target=\"_blank\" href=https://colab.research.google.com/notebooks/data_table.ipynb>data table notebook</a>'\n",
              "          + ' to learn more about interactive tables.';\n",
              "        element.innerHTML = '';\n",
              "        dataTable['output_type'] = 'display_data';\n",
              "        await google.colab.output.renderOutput(dataTable, element);\n",
              "        const docLink = document.createElement('div');\n",
              "        docLink.innerHTML = docLinkHtml;\n",
              "        element.appendChild(docLink);\n",
              "      }\n",
              "    </script>\n",
              "  </div>\n",
              "\n",
              "\n",
              "    </div>\n",
              "  </div>\n"
            ],
            "application/vnd.google.colaboratory.intrinsic+json": {
              "type": "dataframe",
              "variable_name": "df",
              "summary": "{\n  \"name\": \"df\",\n  \"rows\": 15,\n  \"fields\": [\n    {\n      \"column\": \"\\\"id\\\"\",\n      \"properties\": {\n        \"dtype\": \"string\",\n        \"num_unique_values\": 15,\n        \"samples\": [\n          \"239,\",\n          \"243,\",\n          \"20,\"\n        ],\n        \"semantic_type\": \"\",\n        \"description\": \"\"\n      }\n    },\n    {\n      \"column\": \"\\\"speaker_1_en\\\"\",\n      \"properties\": {\n        \"dtype\": \"string\",\n        \"num_unique_values\": 15,\n        \"samples\": [\n          \"\\\"Let\\u2019s do a craft and painting day this weekend.\\\",\",\n          \"\\\"Let\\u2019s volunteer at the animal shelter this weekend.\\\",\",\n          \"\\\"Let\\u2019s visit grandma\\u2019s place.\\\",\"\n        ],\n        \"semantic_type\": \"\",\n        \"description\": \"\"\n      }\n    },\n    {\n      \"column\": \"\\\"speaker_2_en\\\"\",\n      \"properties\": {\n        \"dtype\": \"string\",\n        \"num_unique_values\": 15,\n        \"samples\": [\n          \"\\\"I\\u2019m in! I\\u2019ve some blank canvases at home.\\\",\",\n          \"\\\"Wow, that\\u2019s thoughtful! I\\u2019m in.\\\",\",\n          \"\\\"She\\u2019ll be happy to see us.\\\",\"\n        ],\n        \"semantic_type\": \"\",\n        \"description\": \"\"\n      }\n    },\n    {\n      \"column\": \"\\\"speaker_1_gujlish\\\"\",\n      \"properties\": {\n        \"dtype\": \"string\",\n        \"num_unique_values\": 15,\n        \"samples\": [\n          \"\\\"Sunday Saputara hike jayiye?\\\",\",\n          \"\\\"Aa weekend animal shelter ma volunteer kariye.\\\",\",\n          \"\\\"Dadi na ghar javanu che.\\\",\"\n        ],\n        \"semantic_type\": \"\",\n        \"description\": \"\"\n      }\n    },\n    {\n      \"column\": \"\\\"speaker_2_gujlish\\\"\",\n      \"properties\": {\n        \"dtype\": \"string\",\n        \"num_unique_values\": 15,\n        \"samples\": [\n          \"\\\"Mast idea che! Nature ane fresh hava.\\\",\",\n          \"\\\"Wow, saras idea che! Hu chu.\\\",\",\n          \"\\\"Tene bau khushi thase.\\\"\"\n        ],\n        \"semantic_type\": \"\",\n        \"description\": \"\"\n      }\n    },\n    {\n      \"column\": \"\\\"speaker_3_en\\\"\",\n      \"properties\": {\n        \"dtype\": \"string\",\n        \"num_unique_values\": 9,\n        \"samples\": [\n          \"\\\"Can we also order some comfort food?\\\",\",\n          \"\\\"We can click some photos too.\\\",\",\n          \"\\\"I\\u2019ll bring mat and playing cards.\\\",\"\n        ],\n        \"semantic_type\": \"\",\n        \"description\": \"\"\n      }\n    },\n    {\n      \"column\": \"\\\"speaker_4_en\\\"\",\n      \"properties\": {\n        \"dtype\": \"string\",\n        \"num_unique_values\": 9,\n        \"samples\": [\n          \"\\\"Yes! Pizza or burgers, anyone?\\\",\",\n          \"\\\"And maybe vlog the whole experience.\\\",\",\n          \"\\\"Let\\u2019s carry a frisbee and speakers too.\\\",\"\n        ],\n        \"semantic_type\": \"\",\n        \"description\": \"\"\n      }\n    },\n    {\n      \"column\": \"\\\"speaker_3_gujlish\\\"\",\n      \"properties\": {\n        \"dtype\": \"string\",\n        \"num_unique_values\": 9,\n        \"samples\": [\n          \"\\\"Comfort food pan order kariye?\\\",\",\n          \"\\\"Camera lai avish photos mate.\\\",\",\n          \"\\\"Acrylic colors ane brushes lai avish.\\\",\"\n        ],\n        \"semantic_type\": \"\",\n        \"description\": \"\"\n      }\n    },\n    {\n      \"column\": \"\\\"speaker_4_gujlish\\\"\",\n      \"properties\": {\n        \"dtype\": \"string\",\n        \"num_unique_values\": 9,\n        \"samples\": [\n          \"\\\"Haan! Pizza ke burgers?\\\",\",\n          \"\\\"Snacks ane water bottles prepare karish.\\\"\",\n          \"\\\"DIY d\\u00e9cor ideas try kariye.\\\",\"\n        ],\n        \"semantic_type\": \"\",\n        \"description\": \"\"\n      }\n    },\n    {\n      \"column\": \"\\\"speaker_1_en_2\\\"\",\n      \"properties\": {\n        \"dtype\": \"string\",\n        \"num_unique_values\": 8,\n        \"samples\": [\n          \"\\\"I have a projector we can use.\\\",\",\n          \"\\\"We can take treats for the dogs.\\\",\",\n          \"\\\"Nice idea! Let\\u2019s start from that new rooftop one.\\\",\"\n        ],\n        \"semantic_type\": \"\",\n        \"description\": \"\"\n      }\n    },\n    {\n      \"column\": \"\\\"speaker_2_en_2\\\"\",\n      \"properties\": {\n        \"dtype\": \"string\",\n        \"num_unique_values\": 8,\n        \"samples\": [\n          \"\\\"Nice! I\\u2019ll arrange some cozy pillows and blankets.\\\",\",\n          \"\\\"Yes, and old towels or blankets maybe?\\\",\",\n          \"\\\"Perfect! I\\u2019ll wear something Instagrammable.\\\",\"\n        ],\n        \"semantic_type\": \"\",\n        \"description\": \"\"\n      }\n    },\n    {\n      \"column\": \"\\\"speaker_3_en_2\\\"\",\n      \"properties\": {\n        \"dtype\": \"string\",\n        \"num_unique_values\": 8,\n        \"samples\": [\n          \"\\\"Don\\u2019t forget ice cream!\\\",\",\n          \"\\\"I'll check if we need to fill a form.\\\",\",\n          \"\\\"I\\u2019ll bring my camera and tripod.\\\",\"\n        ],\n        \"semantic_type\": \"\",\n        \"description\": \"\"\n      }\n    },\n    {\n      \"column\": \"\\\"speaker_4_en_2\\\"\",\n      \"properties\": {\n        \"dtype\": \"string\",\n        \"num_unique_values\": 8,\n        \"samples\": [\n          \"\\\"And I\\u2019ll set up a snack table.\\\",\",\n          \"\\\"Great! Let\\u2019s wear old clothes too.\\\",\",\n          \"\\\"Cool, I\\u2019ll plan the route and timings.\\\",\"\n        ],\n        \"semantic_type\": \"\",\n        \"description\": \"\"\n      }\n    },\n    {\n      \"column\": \"\\\"speaker_1_gujlish_2\\\"\",\n      \"properties\": {\n        \"dtype\": \"category\",\n        \"num_unique_values\": 7,\n        \"samples\": [\n          \"\\\"Saras! Navo rooftop cafe thi start kariye.\\\",\",\n          \"\\\"Projector che mane, use kariye.\\\",\",\n          \"\\\"Perfect plan, koi stress nathi.\\\",\"\n        ],\n        \"semantic_type\": \"\",\n        \"description\": \"\"\n      }\n    },\n    {\n      \"column\": \"\\\"speaker_2_gujlish_2\\\"\",\n      \"properties\": {\n        \"dtype\": \"category\",\n        \"num_unique_values\": 7,\n        \"samples\": [\n          \"\\\"Perfect! Instagram mate sari dress pehrish.\\\",\",\n          \"\\\"Blankets ane pillows arrange karish.\\\",\",\n          \"\\\"Netflix shows ni list banavish.\\\",\"\n        ],\n        \"semantic_type\": \"\",\n        \"description\": \"\"\n      }\n    },\n    {\n      \"column\": \"\\\"speaker_3_gujlish_2\\\"\",\n      \"properties\": {\n        \"dtype\": \"category\",\n        \"num_unique_values\": 7,\n        \"samples\": [\n          \"\\\"Camera ane tripod lai avish.\\\",\",\n          \"\\\"Ice cream bhulta nai!\\\",\",\n          \"\\\"Food order hu manage karis.\\\",\"\n        ],\n        \"semantic_type\": \"\",\n        \"description\": \"\"\n      }\n    },\n    {\n      \"column\": \"\\\"speaker_4_gujlish_2\\\"\",\n      \"properties\": {\n        \"dtype\": \"category\",\n        \"num_unique_values\": 7,\n        \"samples\": [\n          \"\\\"Hu route ane time plan karish.\\\"\",\n          \"\\\"Snacks no table setup karish.\\\"\",\n          \"\\\"Relaxation mate weekend set che!\\\"\"\n        ],\n        \"semantic_type\": \"\",\n        \"description\": \"\"\n      }\n    }\n  ]\n}"
            }
          },
          "metadata": {},
          "execution_count": 13
        }
      ]
    },
    {
      "cell_type": "code",
      "source": [
        "df.to_csv('output.csv')"
      ],
      "metadata": {
        "id": "NBbo8iH-68Sb"
      },
      "execution_count": 14,
      "outputs": []
    },
    {
      "cell_type": "code",
      "source": [
        "import pandas as pd\n",
        "import numpy as np\n",
        "import matplotlib.pyplot as plt\n",
        "import re\n",
        "from collections import Counter\n",
        "\n",
        "# Load your CSV file\n",
        "df = pd.read_csv(\"/content/output.csv\")\n",
        "\n",
        "\n",
        "all_text = \" \".join(df.astype(str).values.flatten()).lower()\n",
        "\n",
        "\n",
        "all_text = re.sub(r'[^\\w\\s]', '', all_text)\n",
        "\n",
        "\n",
        "tokens = all_text.split()\n",
        "\n",
        "# Total number of tokens\n",
        "total_tokens = len(tokens)\n",
        "print(f\"\\nTotal tokens in the file: {total_tokens}\")\n",
        "\n",
        "# Word frequency count\n",
        "word_freq = Counter(tokens)\n",
        "\n",
        "# Convert to DataFrame for analysis\n",
        "freq_df = pd.DataFrame(word_freq.items(), columns=['Word', 'Frequency'])\n",
        "freq_df = freq_df.sort_values(by='Frequency', ascending=False)\n",
        "\n",
        "\n",
        "print(\"\\nTop 20 most frequent words:\\n\")\n",
        "print(freq_df.head(20))\n",
        "\n",
        "\n",
        "plt.figure(figsize=(12, 6))\n",
        "plt.bar(freq_df['Word'][:20], freq_df['Frequency'][:20], color='teal')\n",
        "plt.title('Top 20 Most Frequent Words in CSV')\n",
        "plt.xlabel('Words')\n",
        "plt.ylabel('Frequency')\n",
        "plt.xticks(rotation=45)\n",
        "plt.tight_layout()\n",
        "plt.show()\n"
      ],
      "metadata": {
        "colab": {
          "base_uri": "https://localhost:8080/",
          "height": 935
        },
        "id": "Vlzdloe2pSpU",
        "outputId": "8a879edd-3d44-4e60-93ca-75648c7eaa3f"
      },
      "execution_count": 15,
      "outputs": [
        {
          "output_type": "stream",
          "name": "stdout",
          "text": [
            "\n",
            "Total tokens in the file: 1088\n",
            "\n",
            "Top 20 most frequent words:\n",
            "\n",
            "        Word  Frequency\n",
            "21       nan         84\n",
            "28       and         24\n",
            "109      ill         23\n",
            "16       che         21\n",
            "39    kariye         17\n",
            "84         a         17\n",
            "2       lets         15\n",
            "9         to         15\n",
            "65       the         14\n",
            "40       ane         14\n",
            "104       we         14\n",
            "88   weekend         13\n",
            "118      lai         12\n",
            "31   perfect          9\n",
            "113      pan          9\n",
            "117       hu          9\n",
            "153   karish          9\n",
            "29     order          8\n",
            "110    bring          8\n",
            "107     some          8\n"
          ]
        },
        {
          "output_type": "display_data",
          "data": {
            "text/plain": [
              "<Figure size 1200x600 with 1 Axes>"
            ],
            "image/png": "[encoded data removed]"
          },
          "metadata": {}
        }
      ]
    },
    {
      "cell_type": "code",
      "source": [],
      "metadata": {
        "id": "GFCBgw5A6H5f"
      },
      "execution_count": null,
      "outputs": []
    }
  ]
}