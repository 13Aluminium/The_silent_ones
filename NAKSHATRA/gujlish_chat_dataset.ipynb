{
 "cells": [
  {
   "cell_type": "code",
   "execution_count": 8,
   "id": "2340546b",
   "metadata": {},
   "outputs": [],
   "source": [
    "import pandas as pd\n",
    "import json"
   ]
  },
  {
   "cell_type": "code",
   "execution_count": 9,
   "id": "432a36e3",
   "metadata": {},
   "outputs": [
    {
     "name": "stderr",
     "output_type": "stream",
     "text": [
      "<>:1: SyntaxWarning: invalid escape sequence '\\P'\n",
      "<>:1: SyntaxWarning: invalid escape sequence '\\P'\n",
      "C:\\Users\\gandh\\AppData\\Local\\Temp\\ipykernel_41952\\1823137109.py:1: SyntaxWarning: invalid escape sequence '\\P'\n",
      "  with open('D:\\PROJECT(LOW-LEVEL LANGUAGES)/gujlish_chat_dataset_2500_unique.json', 'r', encoding='utf-8') as f:\n"
     ]
    }
   ],
   "source": [
    "with open('D:\\PROJECT(LOW-LEVEL LANGUAGES)/gujlish_chat_dataset_2500_unique.json', 'r', encoding='utf-8') as f:\n",
    "    data = json.load(f)"
   ]
  },
  {
   "cell_type": "code",
   "execution_count": 10,
   "id": "7ba864ee",
   "metadata": {},
   "outputs": [],
   "source": [
    "df = pd.DataFrame(data)\n",
    "csv_path = 'gujlish_chat_dataset_2500_unique.csv'\n",
    "df.to_csv(csv_path, index=False)"
   ]
  },
  {
   "cell_type": "code",
   "execution_count": 11,
   "id": "9ca3e50b",
   "metadata": {},
   "outputs": [
    {
     "name": "stdout",
     "output_type": "stream",
     "text": [
      "CSV saved to gujlish_chat_dataset_2500_unique.csv\n"
     ]
    },
    {
     "data": {
      "text/html": [
       "<div>\n",
       "<style scoped>\n",
       "    .dataframe tbody tr th:only-of-type {\n",
       "        vertical-align: middle;\n",
       "    }\n",
       "\n",
       "    .dataframe tbody tr th {\n",
       "        vertical-align: top;\n",
       "    }\n",
       "\n",
       "    .dataframe thead th {\n",
       "        text-align: right;\n",
       "    }\n",
       "</style>\n",
       "<table border=\"1\" class=\"dataframe\">\n",
       "  <thead>\n",
       "    <tr style=\"text-align: right;\">\n",
       "      <th></th>\n",
       "      <th>topic</th>\n",
       "      <th>speaker_1_en</th>\n",
       "      <th>speaker_1_gujlish</th>\n",
       "      <th>speaker_2_en</th>\n",
       "      <th>speaker_2_gujlish</th>\n",
       "    </tr>\n",
       "  </thead>\n",
       "  <tbody>\n",
       "    <tr>\n",
       "      <th>0</th>\n",
       "      <td>Old vs New Songs / Street vs Restaurant Food</td>\n",
       "      <td>I prefer Kishore Kumar over Badshah.</td>\n",
       "      <td>Mane Kishore Kumar vadhu game.</td>\n",
       "      <td>Restaurants are more hygienic.</td>\n",
       "      <td>Restaurants ma hygiene vadhu hoy.</td>\n",
       "    </tr>\n",
       "    <tr>\n",
       "      <th>1</th>\n",
       "      <td>Street vs Restaurant Food / Bollywood Movie</td>\n",
       "      <td>Let’s eat outside today!</td>\n",
       "      <td>Chal aaje bahar jamva jaiye!</td>\n",
       "      <td>I liked the climax a lot.</td>\n",
       "      <td>Mane climax bau gamyu.</td>\n",
       "    </tr>\n",
       "    <tr>\n",
       "      <th>2</th>\n",
       "      <td>Asking Directions / Cricket Match</td>\n",
       "      <td>Can you guide me to City Mall?</td>\n",
       "      <td>City Mall sudhi marg batavo?</td>\n",
       "      <td>Who won the match yesterday?</td>\n",
       "      <td>Gaya kale kon jeetyu match ma?</td>\n",
       "    </tr>\n",
       "    <tr>\n",
       "      <th>3</th>\n",
       "      <td>Gym/Fitness / Diwali Prep</td>\n",
       "      <td>I feel healthier now.</td>\n",
       "      <td>Mane have healthy feel thay che.</td>\n",
       "      <td>Mom made chakri and sweets.</td>\n",
       "      <td>Mummy ye chakri ane mithai banavi.</td>\n",
       "    </tr>\n",
       "    <tr>\n",
       "      <th>4</th>\n",
       "      <td>Old vs New Songs / Bollywood Movie</td>\n",
       "      <td>New songs have better beats.</td>\n",
       "      <td>Nava gaano ma beat saru hoy.</td>\n",
       "      <td>That movie had great songs.</td>\n",
       "      <td>E movie ma khub sara gaana hata.</td>\n",
       "    </tr>\n",
       "  </tbody>\n",
       "</table>\n",
       "</div>"
      ],
      "text/plain": [
       "                                          topic  \\\n",
       "0  Old vs New Songs / Street vs Restaurant Food   \n",
       "1   Street vs Restaurant Food / Bollywood Movie   \n",
       "2             Asking Directions / Cricket Match   \n",
       "3                     Gym/Fitness / Diwali Prep   \n",
       "4            Old vs New Songs / Bollywood Movie   \n",
       "\n",
       "                           speaker_1_en                 speaker_1_gujlish  \\\n",
       "0  I prefer Kishore Kumar over Badshah.    Mane Kishore Kumar vadhu game.   \n",
       "1              Let’s eat outside today!      Chal aaje bahar jamva jaiye!   \n",
       "2        Can you guide me to City Mall?      City Mall sudhi marg batavo?   \n",
       "3                 I feel healthier now.  Mane have healthy feel thay che.   \n",
       "4          New songs have better beats.      Nava gaano ma beat saru hoy.   \n",
       "\n",
       "                     speaker_2_en                   speaker_2_gujlish  \n",
       "0  Restaurants are more hygienic.   Restaurants ma hygiene vadhu hoy.  \n",
       "1       I liked the climax a lot.              Mane climax bau gamyu.  \n",
       "2    Who won the match yesterday?      Gaya kale kon jeetyu match ma?  \n",
       "3     Mom made chakri and sweets.  Mummy ye chakri ane mithai banavi.  \n",
       "4     That movie had great songs.    E movie ma khub sara gaana hata.  "
      ]
     },
     "execution_count": 11,
     "metadata": {},
     "output_type": "execute_result"
    }
   ],
   "source": [
    "print(f\"CSV saved to {csv_path}\")\n",
    "df = df.drop('id', axis=1)\n",
    "df.head()"
   ]
  },
  {
   "cell_type": "code",
   "execution_count": null,
   "id": "79620d95",
   "metadata": {},
   "outputs": [],
   "source": []
  }
 ],
 "metadata": {
  "kernelspec": {
   "display_name": "Python 3",
   "language": "python",
   "name": "python3"
  },
  "language_info": {
   "codemirror_mode": {
    "name": "ipython",
    "version": 3
   },
   "file_extension": ".py",
   "mimetype": "text/x-python",
   "name": "python",
   "nbconvert_exporter": "python",
   "pygments_lexer": "ipython3",
   "version": "3.12.6"
  }
 },
 "nbformat": 4,
 "nbformat_minor": 5
}
