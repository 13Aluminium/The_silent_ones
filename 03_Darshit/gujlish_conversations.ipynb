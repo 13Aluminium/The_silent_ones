{
 "cells": [
  {
   "cell_type": "code",
   "execution_count": 1,
   "id": "d0f272c2-59d7-4ad2-b6c9-a19d9ac3ccae",
   "metadata": {},
   "outputs": [],
   "source": [
    "import json\n",
    "import pandas as pd"
   ]
  },
  {
   "cell_type": "code",
   "execution_count": 6,
   "id": "931d4c0c-982a-4edf-9f39-5b22a78bb877",
   "metadata": {},
   "outputs": [],
   "source": [
    "with open(\"gujlish_conversations.json\", 'r') as f:\n",
    "    data = json.load(f)"
   ]
  },
  {
   "cell_type": "code",
   "execution_count": 11,
   "id": "e32bada9-c452-41fe-96df-d33c23d6e851",
   "metadata": {},
   "outputs": [
    {
     "data": {
      "text/html": [
       "<div>\n",
       "<style scoped>\n",
       "    .dataframe tbody tr th:only-of-type {\n",
       "        vertical-align: middle;\n",
       "    }\n",
       "\n",
       "    .dataframe tbody tr th {\n",
       "        vertical-align: top;\n",
       "    }\n",
       "\n",
       "    .dataframe thead th {\n",
       "        text-align: right;\n",
       "    }\n",
       "</style>\n",
       "<table border=\"1\" class=\"dataframe\">\n",
       "  <thead>\n",
       "    <tr style=\"text-align: right;\">\n",
       "      <th></th>\n",
       "      <th>topic</th>\n",
       "      <th>english</th>\n",
       "      <th>gujlish</th>\n",
       "    </tr>\n",
       "  </thead>\n",
       "  <tbody>\n",
       "    <tr>\n",
       "      <th>0</th>\n",
       "      <td>Discussing weekend plans</td>\n",
       "      <td>What are your plans for the weekend?</td>\n",
       "      <td>Taro weekend mate shu plan chhe?</td>\n",
       "    </tr>\n",
       "    <tr>\n",
       "      <th>1</th>\n",
       "      <td>Discussing weekend plans</td>\n",
       "      <td>I was thinking we could go out and watch a movie.</td>\n",
       "      <td>Hu to vichari rahyo hato ke apde movie jovay j...</td>\n",
       "    </tr>\n",
       "    <tr>\n",
       "      <th>2</th>\n",
       "      <td>Discussing weekend plans</td>\n",
       "      <td>Do you want to try that new restaurant nearby?</td>\n",
       "      <td>Tane navi restaurant try karvi chhe je najik m...</td>\n",
       "    </tr>\n",
       "    <tr>\n",
       "      <th>3</th>\n",
       "      <td>Discussing weekend plans</td>\n",
       "      <td>Letâ€™s relax at home and binge some series.</td>\n",
       "      <td>Chalo ghar e relax kariye ane kai series joiye.</td>\n",
       "    </tr>\n",
       "    <tr>\n",
       "      <th>4</th>\n",
       "      <td>Discussing weekend plans</td>\n",
       "      <td>I heard thereâ€™s a concert in town this weekend.</td>\n",
       "      <td>Mane sambhalyu chhe ke aa weekend ma concert c...</td>\n",
       "    </tr>\n",
       "  </tbody>\n",
       "</table>\n",
       "</div>"
      ],
      "text/plain": [
       "                      topic  \\\n",
       "0  Discussing weekend plans   \n",
       "1  Discussing weekend plans   \n",
       "2  Discussing weekend plans   \n",
       "3  Discussing weekend plans   \n",
       "4  Discussing weekend plans   \n",
       "\n",
       "                                             english  \\\n",
       "0               What are your plans for the weekend?   \n",
       "1  I was thinking we could go out and watch a movie.   \n",
       "2     Do you want to try that new restaurant nearby?   \n",
       "3       Letâ€™s relax at home and binge some series.   \n",
       "4  I heard thereâ€™s a concert in town this weekend.   \n",
       "\n",
       "                                             gujlish  \n",
       "0                   Taro weekend mate shu plan chhe?  \n",
       "1  Hu to vichari rahyo hato ke apde movie jovay j...  \n",
       "2  Tane navi restaurant try karvi chhe je najik m...  \n",
       "3    Chalo ghar e relax kariye ane kai series joiye.  \n",
       "4  Mane sambhalyu chhe ke aa weekend ma concert c...  "
      ]
     },
     "execution_count": 11,
     "metadata": {},
     "output_type": "execute_result"
    }
   ],
   "source": [
    "df = pd.DataFrame(data)\n",
    "df = df.iloc[:,1:]\n",
    "df.head()"
   ]
  },
  {
   "cell_type": "code",
   "execution_count": 8,
   "id": "1d2ac0ff-9170-4264-ab2d-1e6bd1296ec2",
   "metadata": {},
   "outputs": [],
   "source": [
    "df.to_csv('gujlish_conversations.csv')"
   ]
  },
  {
   "cell_type": "code",
   "execution_count": 9,
   "id": "8dccdbbf-8893-427a-8d3e-01370d513a24",
   "metadata": {},
   "outputs": [
    {
     "name": "stdout",
     "output_type": "stream",
     "text": [
      "<class 'pandas.core.frame.DataFrame'>\n",
      "RangeIndex: 5000 entries, 0 to 4999\n",
      "Data columns (total 3 columns):\n",
      " #   Column   Non-Null Count  Dtype \n",
      "---  ------   --------------  ----- \n",
      " 0   topic    5000 non-null   object\n",
      " 1   english  5000 non-null   object\n",
      " 2   gujlish  5000 non-null   object\n",
      "dtypes: object(3)\n",
      "memory usage: 117.3+ KB\n"
     ]
    }
   ],
   "source": [
    "df.info()"
   ]
  },
  {
   "cell_type": "code",
   "execution_count": null,
   "id": "2dff3c58-05f1-41d2-a52f-0fd8928c816a",
   "metadata": {},
   "outputs": [],
   "source": []
  }
 ],
 "metadata": {
  "kernelspec": {
   "display_name": "Python 3 (ipykernel)",
   "language": "python",
   "name": "python3"
  },
  "language_info": {
   "codemirror_mode": {
    "name": "ipython",
    "version": 3
   },
   "file_extension": ".py",
   "mimetype": "text/x-python",
   "name": "python",
   "nbconvert_exporter": "python",
   "pygments_lexer": "ipython3",
   "version": "3.12.3"
  },
  "widgets": {
   "application/vnd.jupyter.widget-state+json": {
    "state": {},
    "version_major": 2,
    "version_minor": 0
   }
  }
 },
 "nbformat": 4,
 "nbformat_minor": 5
}
